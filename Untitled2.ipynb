{
 "cells": [
  {
   "cell_type": "code",
   "execution_count": 1,
   "id": "63849ae4",
   "metadata": {},
   "outputs": [
    {
     "name": "stdout",
     "output_type": "stream",
     "text": [
      "Collecting selenium\n",
      "  Downloading selenium-4.17.2-py3-none-any.whl (9.9 MB)\n",
      "     ---------------------------------------- 0.0/9.9 MB ? eta -:--:--\n",
      "     ---------------------------------------- 0.0/9.9 MB 1.3 MB/s eta 0:00:08\n",
      "     ---------------------------------------- 0.1/9.9 MB 1.0 MB/s eta 0:00:10\n",
      "      --------------------------------------- 0.2/9.9 MB 1.7 MB/s eta 0:00:06\n",
      "     - -------------------------------------- 0.4/9.9 MB 2.0 MB/s eta 0:00:05\n",
      "     -- ------------------------------------- 0.5/9.9 MB 2.4 MB/s eta 0:00:04\n",
      "     --- ------------------------------------ 0.7/9.9 MB 2.8 MB/s eta 0:00:04\n",
      "     --- ------------------------------------ 0.9/9.9 MB 2.8 MB/s eta 0:00:04\n",
      "     ---- ----------------------------------- 1.1/9.9 MB 3.1 MB/s eta 0:00:03\n",
      "     ---- ----------------------------------- 1.2/9.9 MB 3.0 MB/s eta 0:00:03\n",
      "     ----- ---------------------------------- 1.4/9.9 MB 3.2 MB/s eta 0:00:03\n",
      "     ------ --------------------------------- 1.6/9.9 MB 3.2 MB/s eta 0:00:03\n",
      "     ------- -------------------------------- 1.8/9.9 MB 3.2 MB/s eta 0:00:03\n",
      "     -------- ------------------------------- 2.0/9.9 MB 3.3 MB/s eta 0:00:03\n",
      "     -------- ------------------------------- 2.2/9.9 MB 3.4 MB/s eta 0:00:03\n",
      "     --------- ------------------------------ 2.4/9.9 MB 3.5 MB/s eta 0:00:03\n",
      "     ---------- ----------------------------- 2.5/9.9 MB 3.5 MB/s eta 0:00:03\n",
      "     ----------- ---------------------------- 2.8/9.9 MB 3.5 MB/s eta 0:00:03\n",
      "     ------------ --------------------------- 3.0/9.9 MB 3.6 MB/s eta 0:00:02\n",
      "     ------------- -------------------------- 3.3/9.9 MB 3.7 MB/s eta 0:00:02\n",
      "     -------------- ------------------------- 3.5/9.9 MB 3.8 MB/s eta 0:00:02\n",
      "     -------------- ------------------------- 3.7/9.9 MB 3.9 MB/s eta 0:00:02\n",
      "     ---------------- ----------------------- 4.0/9.9 MB 4.0 MB/s eta 0:00:02\n",
      "     ---------------- ----------------------- 4.2/9.9 MB 4.0 MB/s eta 0:00:02\n",
      "     ----------------- ---------------------- 4.4/9.9 MB 4.0 MB/s eta 0:00:02\n",
      "     ------------------ --------------------- 4.5/9.9 MB 4.0 MB/s eta 0:00:02\n",
      "     ------------------ --------------------- 4.7/9.9 MB 3.9 MB/s eta 0:00:02\n",
      "     ------------------- -------------------- 4.9/9.9 MB 3.9 MB/s eta 0:00:02\n",
      "     -------------------- ------------------- 5.1/9.9 MB 3.9 MB/s eta 0:00:02\n",
      "     --------------------- ------------------ 5.2/9.9 MB 3.9 MB/s eta 0:00:02\n",
      "     --------------------- ------------------ 5.4/9.9 MB 3.9 MB/s eta 0:00:02\n",
      "     ---------------------- ----------------- 5.6/9.9 MB 3.9 MB/s eta 0:00:02\n",
      "     ----------------------- ---------------- 5.8/9.9 MB 4.0 MB/s eta 0:00:02\n",
      "     ------------------------ --------------- 6.0/9.9 MB 3.9 MB/s eta 0:00:01\n",
      "     ------------------------ --------------- 6.2/9.9 MB 3.9 MB/s eta 0:00:01\n",
      "     ------------------------- -------------- 6.4/9.9 MB 4.0 MB/s eta 0:00:01\n",
      "     -------------------------- ------------- 6.5/9.9 MB 4.0 MB/s eta 0:00:01\n",
      "     --------------------------- ------------ 6.8/9.9 MB 4.0 MB/s eta 0:00:01\n",
      "     ---------------------------- ----------- 7.0/9.9 MB 4.0 MB/s eta 0:00:01\n",
      "     ----------------------------- ---------- 7.3/9.9 MB 4.0 MB/s eta 0:00:01\n",
      "     ------------------------------ --------- 7.5/9.9 MB 4.0 MB/s eta 0:00:01\n",
      "     ------------------------------- -------- 7.7/9.9 MB 4.1 MB/s eta 0:00:01\n",
      "     ------------------------------- -------- 7.9/9.9 MB 4.1 MB/s eta 0:00:01\n",
      "     -------------------------------- ------- 8.1/9.9 MB 4.1 MB/s eta 0:00:01\n",
      "     --------------------------------- ------ 8.3/9.9 MB 4.1 MB/s eta 0:00:01\n",
      "     ---------------------------------- ----- 8.5/9.9 MB 4.1 MB/s eta 0:00:01\n",
      "     ----------------------------------- ---- 8.8/9.9 MB 4.1 MB/s eta 0:00:01\n",
      "     ------------------------------------ --- 9.1/9.9 MB 4.2 MB/s eta 0:00:01\n",
      "     ------------------------------------- -- 9.4/9.9 MB 4.2 MB/s eta 0:00:01\n",
      "     -------------------------------------- - 9.6/9.9 MB 4.3 MB/s eta 0:00:01\n",
      "     ---------------------------------------  9.8/9.9 MB 4.2 MB/s eta 0:00:01\n",
      "     ---------------------------------------  9.9/9.9 MB 4.2 MB/s eta 0:00:01\n",
      "     ---------------------------------------- 9.9/9.9 MB 4.2 MB/s eta 0:00:00\n",
      "Collecting trio-websocket~=0.9\n",
      "  Downloading trio_websocket-0.11.1-py3-none-any.whl (17 kB)\n",
      "Collecting trio~=0.17\n",
      "  Downloading trio-0.24.0-py3-none-any.whl (460 kB)\n",
      "     ---------------------------------------- 0.0/460.2 kB ? eta -:--:--\n",
      "     ---------------------- --------------- 276.5/460.2 kB 5.8 MB/s eta 0:00:01\n",
      "     -------------------------------------- 460.2/460.2 kB 5.8 MB/s eta 0:00:00\n",
      "Requirement already satisfied: certifi>=2021.10.8 in c:\\users\\lenovo\\anaconda3\\lib\\site-packages (from selenium) (2022.12.7)\n",
      "Requirement already satisfied: urllib3[socks]<3,>=1.26 in c:\\users\\lenovo\\anaconda3\\lib\\site-packages (from selenium) (1.26.15)\n",
      "Collecting typing_extensions>=4.9.0\n",
      "  Downloading typing_extensions-4.9.0-py3-none-any.whl (32 kB)\n",
      "Requirement already satisfied: cffi>=1.14 in c:\\users\\lenovo\\anaconda3\\lib\\site-packages (from trio~=0.17->selenium) (1.15.1)\n",
      "Requirement already satisfied: attrs>=20.1.0 in c:\\users\\lenovo\\anaconda3\\lib\\site-packages (from trio~=0.17->selenium) (22.1.0)\n",
      "Collecting outcome\n",
      "  Downloading outcome-1.3.0.post0-py2.py3-none-any.whl (10 kB)\n",
      "Collecting exceptiongroup\n",
      "  Downloading exceptiongroup-1.2.0-py3-none-any.whl (16 kB)\n",
      "Collecting sniffio>=1.3.0\n",
      "  Downloading sniffio-1.3.0-py3-none-any.whl (10 kB)\n",
      "Requirement already satisfied: idna in c:\\users\\lenovo\\anaconda3\\lib\\site-packages (from trio~=0.17->selenium) (3.4)\n",
      "Requirement already satisfied: sortedcontainers in c:\\users\\lenovo\\anaconda3\\lib\\site-packages (from trio~=0.17->selenium) (2.4.0)\n",
      "Collecting wsproto>=0.14\n",
      "  Downloading wsproto-1.2.0-py3-none-any.whl (24 kB)\n",
      "Requirement already satisfied: PySocks!=1.5.7,<2.0,>=1.5.6 in c:\\users\\lenovo\\anaconda3\\lib\\site-packages (from urllib3[socks]<3,>=1.26->selenium) (1.7.1)\n",
      "Requirement already satisfied: pycparser in c:\\users\\lenovo\\anaconda3\\lib\\site-packages (from cffi>=1.14->trio~=0.17->selenium) (2.21)\n",
      "Collecting h11<1,>=0.9.0\n",
      "  Downloading h11-0.14.0-py3-none-any.whl (58 kB)\n",
      "     ---------------------------------------- 0.0/58.3 kB ? eta -:--:--\n",
      "     ---------------------------------------- 58.3/58.3 kB 3.2 MB/s eta 0:00:00\n",
      "Installing collected packages: typing_extensions, sniffio, outcome, h11, exceptiongroup, wsproto, trio, trio-websocket, selenium\n",
      "  Attempting uninstall: typing_extensions\n",
      "    Found existing installation: typing_extensions 4.4.0\n",
      "    Uninstalling typing_extensions-4.4.0:\n",
      "      Successfully uninstalled typing_extensions-4.4.0\n",
      "  Attempting uninstall: sniffio\n",
      "    Found existing installation: sniffio 1.2.0\n",
      "    Uninstalling sniffio-1.2.0:\n",
      "      Successfully uninstalled sniffio-1.2.0\n",
      "Successfully installed exceptiongroup-1.2.0 h11-0.14.0 outcome-1.3.0.post0 selenium-4.17.2 sniffio-1.3.0 trio-0.24.0 trio-websocket-0.11.1 typing_extensions-4.9.0 wsproto-1.2.0\n",
      "Note: you may need to restart the kernel to use updated packages.\n"
     ]
    },
    {
     "name": "stderr",
     "output_type": "stream",
     "text": [
      "WARNING: Ignoring invalid distribution -rotobuf (c:\\users\\lenovo\\anaconda3\\lib\\site-packages)\n",
      "WARNING: Ignoring invalid distribution -rotobuf (c:\\users\\lenovo\\anaconda3\\lib\\site-packages)\n",
      "WARNING: Ignoring invalid distribution -rotobuf (c:\\users\\lenovo\\anaconda3\\lib\\site-packages)\n",
      "    WARNING: Ignoring invalid distribution -rotobuf (c:\\users\\lenovo\\anaconda3\\lib\\site-packages)\n",
      "    WARNING: Ignoring invalid distribution -rotobuf (c:\\users\\lenovo\\anaconda3\\lib\\site-packages)\n",
      "WARNING: Ignoring invalid distribution -rotobuf (c:\\users\\lenovo\\anaconda3\\lib\\site-packages)\n",
      "WARNING: Ignoring invalid distribution -rotobuf (c:\\users\\lenovo\\anaconda3\\lib\\site-packages)\n",
      "WARNING: Ignoring invalid distribution -rotobuf (c:\\users\\lenovo\\anaconda3\\lib\\site-packages)\n",
      "WARNING: Ignoring invalid distribution -rotobuf (c:\\users\\lenovo\\anaconda3\\lib\\site-packages)\n",
      "WARNING: Ignoring invalid distribution -rotobuf (c:\\users\\lenovo\\anaconda3\\lib\\site-packages)\n",
      "WARNING: Ignoring invalid distribution -rotobuf (c:\\users\\lenovo\\anaconda3\\lib\\site-packages)\n",
      "WARNING: Ignoring invalid distribution -rotobuf (c:\\users\\lenovo\\anaconda3\\lib\\site-packages)\n",
      "WARNING: Ignoring invalid distribution -rotobuf (c:\\users\\lenovo\\anaconda3\\lib\\site-packages)\n",
      "WARNING: Ignoring invalid distribution -rotobuf (c:\\users\\lenovo\\anaconda3\\lib\\site-packages)\n",
      "ERROR: pip's dependency resolver does not currently take into account all the packages that are installed. This behaviour is the source of the following dependency conflicts.\n",
      "tf-nightly 2.11.0.dev20220812 requires protobuf<3.20,>=3.9.2, but you have protobuf 4.22.1 which is incompatible.\n",
      "streamlit 1.12.0 requires protobuf<4,>=3.12, but you have protobuf 4.22.1 which is incompatible.\n",
      "WARNING: Ignoring invalid distribution -rotobuf (c:\\users\\lenovo\\anaconda3\\lib\\site-packages)\n",
      "WARNING: Ignoring invalid distribution -rotobuf (c:\\users\\lenovo\\anaconda3\\lib\\site-packages)\n",
      "WARNING: Ignoring invalid distribution -rotobuf (c:\\users\\lenovo\\anaconda3\\lib\\site-packages)\n"
     ]
    }
   ],
   "source": [
    "pip install selenium"
   ]
  },
  {
   "cell_type": "code",
   "execution_count": 2,
   "id": "7bf57cb4",
   "metadata": {},
   "outputs": [
    {
     "name": "stdout",
     "output_type": "stream",
     "text": [
      "Collecting webdriver-manager\n",
      "  Downloading webdriver_manager-4.0.1-py2.py3-none-any.whl (27 kB)\n",
      "Requirement already satisfied: requests in c:\\users\\lenovo\\anaconda3\\lib\\site-packages (from webdriver-manager) (2.28.1)\n",
      "Requirement already satisfied: python-dotenv in c:\\users\\lenovo\\anaconda3\\lib\\site-packages (from webdriver-manager) (1.0.0)\n",
      "Requirement already satisfied: packaging in c:\\users\\lenovo\\anaconda3\\lib\\site-packages (from webdriver-manager) (23.0)\n",
      "Requirement already satisfied: certifi>=2017.4.17 in c:\\users\\lenovo\\anaconda3\\lib\\site-packages (from requests->webdriver-manager) (2022.12.7)\n",
      "Requirement already satisfied: urllib3<1.27,>=1.21.1 in c:\\users\\lenovo\\anaconda3\\lib\\site-packages (from requests->webdriver-manager) (1.26.15)\n",
      "Requirement already satisfied: charset-normalizer<3,>=2 in c:\\users\\lenovo\\anaconda3\\lib\\site-packages (from requests->webdriver-manager) (2.0.4)\n",
      "Requirement already satisfied: idna<4,>=2.5 in c:\\users\\lenovo\\anaconda3\\lib\\site-packages (from requests->webdriver-manager) (3.4)\n",
      "Installing collected packages: webdriver-manager\n",
      "Successfully installed webdriver-manager-4.0.1\n",
      "Note: you may need to restart the kernel to use updated packages.\n"
     ]
    },
    {
     "name": "stderr",
     "output_type": "stream",
     "text": [
      "WARNING: Ignoring invalid distribution -rotobuf (c:\\users\\lenovo\\anaconda3\\lib\\site-packages)\n",
      "WARNING: Ignoring invalid distribution -rotobuf (c:\\users\\lenovo\\anaconda3\\lib\\site-packages)\n",
      "WARNING: Ignoring invalid distribution -rotobuf (c:\\users\\lenovo\\anaconda3\\lib\\site-packages)\n",
      "WARNING: Ignoring invalid distribution -rotobuf (c:\\users\\lenovo\\anaconda3\\lib\\site-packages)\n",
      "WARNING: Ignoring invalid distribution -rotobuf (c:\\users\\lenovo\\anaconda3\\lib\\site-packages)\n",
      "WARNING: Ignoring invalid distribution -rotobuf (c:\\users\\lenovo\\anaconda3\\lib\\site-packages)\n",
      "WARNING: Ignoring invalid distribution -rotobuf (c:\\users\\lenovo\\anaconda3\\lib\\site-packages)\n"
     ]
    }
   ],
   "source": [
    "pip install webdriver-manager"
   ]
  },
  {
   "cell_type": "code",
   "execution_count": 10,
   "id": "e18fd0bf",
   "metadata": {},
   "outputs": [],
   "source": [
    "import requests\n",
    "from selenium.webdriver import Chrome\n",
    "from selenium import webdriver\n",
    "from bs4 import BeautifulSoup\n",
    "import time\n",
    "from selenium.webdriver.chrome.options import Options"
   ]
  },
  {
   "cell_type": "code",
   "execution_count": 11,
   "id": "8a5b5c4d",
   "metadata": {},
   "outputs": [],
   "source": [
    "path = 'C:/Users/lenovo/Downloads/chromedriver'"
   ]
  },
  {
   "cell_type": "code",
   "execution_count": 12,
   "id": "9f65ae4e",
   "metadata": {},
   "outputs": [
    {
     "ename": "TypeError",
     "evalue": "__init__() got an unexpected keyword argument 'executable_path'",
     "output_type": "error",
     "traceback": [
      "\u001b[1;31m---------------------------------------------------------------------------\u001b[0m",
      "\u001b[1;31mTypeError\u001b[0m                                 Traceback (most recent call last)",
      "Cell \u001b[1;32mIn[12], line 2\u001b[0m\n\u001b[0;32m      1\u001b[0m options \u001b[38;5;241m=\u001b[39m Options()\n\u001b[1;32m----> 2\u001b[0m driver \u001b[38;5;241m=\u001b[39m \u001b[43mChrome\u001b[49m\u001b[43m(\u001b[49m\u001b[43mexecutable_path\u001b[49m\u001b[38;5;241;43m=\u001b[39;49m\u001b[43mpath\u001b[49m\u001b[43m,\u001b[49m\u001b[43m \u001b[49m\u001b[43moptions\u001b[49m\u001b[38;5;241;43m=\u001b[39;49m\u001b[43moptions\u001b[49m\u001b[43m)\u001b[49m\n",
      "\u001b[1;31mTypeError\u001b[0m: __init__() got an unexpected keyword argument 'executable_path'"
     ]
    }
   ],
   "source": [
    "options = Options()\n",
    "driver = Chrome(executable_path=path, options=options)"
   ]
  },
  {
   "cell_type": "code",
   "execution_count": 13,
   "id": "df1e474a",
   "metadata": {},
   "outputs": [
    {
     "name": "stdout",
     "output_type": "stream",
     "text": [
      "Collecting chromedriver-autoinstallerNote: you may need to restart the kernel to use updated packages.\n",
      "\n",
      "  Downloading chromedriver_autoinstaller-0.6.4-py3-none-any.whl (7.6 kB)\n",
      "Collecting packaging>=23.1\n",
      "  Downloading packaging-23.2-py3-none-any.whl (53 kB)\n",
      "     ---------------------------------------- 0.0/53.0 kB ? eta -:--:--\n",
      "     ----------------------- ---------------- 30.7/53.0 kB 1.3 MB/s eta 0:00:01\n",
      "     -------------------------------------- 53.0/53.0 kB 678.9 kB/s eta 0:00:00\n",
      "Installing collected packages: packaging, chromedriver-autoinstaller\n",
      "  Attempting uninstall: packaging\n",
      "    Found existing installation: packaging 23.0\n",
      "    Uninstalling packaging-23.0:\n",
      "      Successfully uninstalled packaging-23.0\n",
      "Successfully installed chromedriver-autoinstaller-0.6.4 packaging-23.2\n"
     ]
    },
    {
     "name": "stderr",
     "output_type": "stream",
     "text": [
      "WARNING: Ignoring invalid distribution -rotobuf (c:\\users\\lenovo\\anaconda3\\lib\\site-packages)\n",
      "WARNING: Ignoring invalid distribution -rotobuf (c:\\users\\lenovo\\anaconda3\\lib\\site-packages)\n",
      "WARNING: Ignoring invalid distribution -rotobuf (c:\\users\\lenovo\\anaconda3\\lib\\site-packages)\n",
      "    WARNING: Ignoring invalid distribution -rotobuf (c:\\users\\lenovo\\anaconda3\\lib\\site-packages)\n",
      "WARNING: Ignoring invalid distribution -rotobuf (c:\\users\\lenovo\\anaconda3\\lib\\site-packages)\n",
      "WARNING: Ignoring invalid distribution -rotobuf (c:\\users\\lenovo\\anaconda3\\lib\\site-packages)\n",
      "ERROR: pip's dependency resolver does not currently take into account all the packages that are installed. This behaviour is the source of the following dependency conflicts.\n",
      "tf-nightly 2.11.0.dev20220812 requires protobuf<3.20,>=3.9.2, but you have protobuf 4.22.1 which is incompatible.\n",
      "streamlit 1.12.0 requires protobuf<4,>=3.12, but you have protobuf 4.22.1 which is incompatible.\n",
      "jupyter-server 1.13.5 requires pywinpty<2; os_name == \"nt\", but you have pywinpty 2.0.10 which is incompatible.\n",
      "WARNING: Ignoring invalid distribution -rotobuf (c:\\users\\lenovo\\anaconda3\\lib\\site-packages)\n",
      "WARNING: Ignoring invalid distribution -rotobuf (c:\\users\\lenovo\\anaconda3\\lib\\site-packages)\n",
      "WARNING: Ignoring invalid distribution -rotobuf (c:\\users\\lenovo\\anaconda3\\lib\\site-packages)\n"
     ]
    }
   ],
   "source": [
    "pip install chromedriver-autoinstaller"
   ]
  },
  {
   "cell_type": "code",
   "execution_count": 18,
   "id": "7f5adb2e",
   "metadata": {},
   "outputs": [
    {
     "ename": "TypeError",
     "evalue": "install() got an unexpected keyword argument 'driver_version'",
     "output_type": "error",
     "traceback": [
      "\u001b[1;31m---------------------------------------------------------------------------\u001b[0m",
      "\u001b[1;31mTypeError\u001b[0m                                 Traceback (most recent call last)",
      "Cell \u001b[1;32mIn[18], line 5\u001b[0m\n\u001b[0;32m      1\u001b[0m \u001b[38;5;28;01mfrom\u001b[39;00m \u001b[38;5;21;01mselenium\u001b[39;00m \u001b[38;5;28;01mimport\u001b[39;00m webdriver\n\u001b[0;32m      2\u001b[0m \u001b[38;5;28;01mimport\u001b[39;00m \u001b[38;5;21;01mchromedriver_autoinstaller\u001b[39;00m\n\u001b[1;32m----> 5\u001b[0m \u001b[43mchromedriver_autoinstaller\u001b[49m\u001b[38;5;241;43m.\u001b[39;49m\u001b[43minstall\u001b[49m\u001b[43m(\u001b[49m\u001b[43mdriver_version\u001b[49m\u001b[38;5;241;43m=\u001b[39;49m\u001b[38;5;124;43m\"\u001b[39;49m\u001b[38;5;124;43m120.0.6099.109\u001b[39;49m\u001b[38;5;124;43m\"\u001b[39;49m\u001b[43m)\u001b[49m  \u001b[38;5;66;03m# Check if the current version of chromedriver exists\u001b[39;00m\n\u001b[0;32m      6\u001b[0m                                       \u001b[38;5;66;03m# and if it doesn't exist, download it automatically,\u001b[39;00m\n\u001b[0;32m      7\u001b[0m                                       \u001b[38;5;66;03m# then add chromedriver to path\u001b[39;00m\n\u001b[0;32m      9\u001b[0m driver \u001b[38;5;241m=\u001b[39m webdriver\u001b[38;5;241m.\u001b[39mChrome()\n",
      "\u001b[1;31mTypeError\u001b[0m: install() got an unexpected keyword argument 'driver_version'"
     ]
    }
   ],
   "source": [
    "from selenium import webdriver\n",
    "import chromedriver_autoinstaller\n",
    "\n",
    "\n",
    "chromedriver_autoinstaller.install(driver_version=\"120.0.6099.109\")  # Check if the current version of chromedriver exists\n",
    "                                      # and if it doesn't exist, download it automatically,\n",
    "                                      # then add chromedriver to path\n",
    "\n",
    "driver = webdriver.Chrome()\n",
    "driver.get(\"http://www.python.org\")\n",
    "assert \"Python\" in driver.title"
   ]
  },
  {
   "cell_type": "code",
   "execution_count": null,
   "id": "4a0c1c13",
   "metadata": {},
   "outputs": [],
   "source": []
  }
 ],
 "metadata": {
  "kernelspec": {
   "display_name": "Python 3 (ipykernel)",
   "language": "python",
   "name": "python3"
  },
  "language_info": {
   "codemirror_mode": {
    "name": "ipython",
    "version": 3
   },
   "file_extension": ".py",
   "mimetype": "text/x-python",
   "name": "python",
   "nbconvert_exporter": "python",
   "pygments_lexer": "ipython3",
   "version": "3.9.7"
  }
 },
 "nbformat": 4,
 "nbformat_minor": 5
}
